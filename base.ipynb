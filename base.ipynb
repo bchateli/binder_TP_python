{
 "cells": [
  {
   "cell_type": "code",
   "execution_count": null,
   "id": "0bc765d8",
   "metadata": {
    "vscode": {
     "languageId": "plaintext"
    }
   },
   "outputs": [],
   "source": [
    "%matplotlib inline\n",
    "import matplotlib.pyplot as plt"
   ]
  },
  {
   "cell_type": "code",
   "execution_count": null,
   "metadata": {
    "vscode": {
     "languageId": "plaintext"
    }
   },
   "outputs": [],
   "source": [
    "def chiffrer(message, decalage):\n",
    "    resultat = ''\n",
    "    for char in message:\n",
    "        if char.isalpha():\n",
    "          if char.isupper():\n",
    "            base = ord('A')\n",
    "          else:\n",
    "            base = ord('a')\n",
    "          code = (ord(char) - base + decalage) % 26 + base\n",
    "          resultat += chr(code)\n",
    "        else:\n",
    "            resultat += char  # Garde les caractères non alphabétiques\n",
    "    return resultat\n",
    "\n",
    "def dechiffrer(message_chiffre, decalage):\n",
    "    return chiffrer(message_chiffre, -decalage)\n",
    "\n",
    "def dechiffrer_aveugle(message_chiffre):\n",
    "  for i in range(25):\n",
    "    print(chiffrer(message_chiffre, -(i+1)))"
   ]
  },
  {
   "cell_type": "code",
   "execution_count": null,
   "id": "bbe4c51f",
   "metadata": {
    "vscode": {
     "languageId": "plaintext"
    }
   },
   "outputs": [],
   "source": [
    "message = \"Cheval\"\n",
    "decalage = 5\n",
    "message_chiffre = chiffrer(message, decalage)\n",
    "message_dechiffre = dechiffrer(message_chiffre, decalage)\n",
    "print(message)\n",
    "print(message_dechiffre)\n",
    "dechiffrer_aveugle(message_chiffre)"
   ]
  }
 ],
 "metadata": {
  "language_info": {
   "name": "python"
  }
 },
 "nbformat": 4,
 "nbformat_minor": 5
}
