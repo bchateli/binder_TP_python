{
 "cells": [
  {
   "cell_type": "code",
   "execution_count": null,
   "id": "0bc765d8",
   "metadata": {
    "vscode": {
     "languageId": "plaintext"
    }
   },
   "outputs": [],
   "source": [
    "\n",
    "%matplotlib inline\n",
    "import matplotlib.pyplot as plt\n",
    "import seaborn as sns"
   ]
  },
  {
   "cell_type": "code",
   "execution_count": null,
   "id": "d1aa77d0",
   "metadata": {
    "vscode": {
     "languageId": "plaintext"
    }
   },
   "outputs": [],
   "source": [
    "from numpy import random\n",
    "from scipy.ndimage.filters import gaussian_filter"
   ]
  },
  {
   "cell_type": "code",
   "execution_count": null,
   "id": "f73fb567",
   "metadata": {
    "vscode": {
     "languageId": "plaintext"
    }
   },
   "outputs": [],
   "source": [
    "x = random.randn(10,500)\n",
    "x = gaussian_filter(x, [0, 10])\n",
    "sns.tsplot(x, err_style='unit_traces');"
   ]
  },
  {
   "cell_type": "code",
   "execution_count": null,
   "id": "a2befae6",
   "metadata": {
    "vscode": {
     "languageId": "plaintext"
    }
   },
   "outputs": [],
   "source": [
    "mat = random.randn(10,40)\n",
    "sns.heatmap(mat);"
   ]
  }
 ],
 "metadata": {
  "language_info": {
   "name": "python"
  }
 },
 "nbformat": 4,
 "nbformat_minor": 5
}
